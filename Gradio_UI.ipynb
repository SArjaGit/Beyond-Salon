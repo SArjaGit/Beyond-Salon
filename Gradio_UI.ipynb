{
 "cells": [
  {
   "cell_type": "code",
   "execution_count": 1,
   "metadata": {},
   "outputs": [],
   "source": [
    "#!pip install segment_anything opencv-python torch requests webcolors pillow gradio"
   ]
  },
  {
   "cell_type": "code",
   "execution_count": 2,
   "metadata": {},
   "outputs": [],
   "source": [
    "\n",
    "from lib.hair import look_maker\n",
    "import gradio as gr\n",
    "from PIL import Image\n",
    "import os\n"
   ]
  },
  {
   "cell_type": "code",
   "execution_count": 3,
   "metadata": {},
   "outputs": [],
   "source": [
    "UPLOAD_DIR = \"uploaded_images\"\n",
    "os.makedirs(UPLOAD_DIR, exist_ok=True)\n",
    "#image = \"source_data/Roberta.jpg\"\n",
    "# Define the function to transform hair color\n",
    "def transform_hair(image, color):\n",
    "    \n",
    "    # Define the directory for uploaded images\n",
    "    image_path = os.path.join(UPLOAD_DIR, \"uploaded_image.jpg\")\n",
    "\n",
    "    # Save the uploaded image to a temporary file\n",
    "    image.save(image_path)\n",
    "\n",
    "    print(f\"Image saved to: {image_path}\")\n",
    "    \n",
    "    # Call the set_hair_color method with the image path and color\n",
    "    output_path = look_maker.hair_transform(color, image_path)\n",
    "\n",
    "    output_path = \"output/colored_hair.png\"\n",
    "    \n",
    "    print(f\"Output path: {output_path}\")\n",
    "\n",
    "    if output_path and os.path.exists(output_path):\n",
    "        # Load the transformed image to return it\n",
    "        transformed_image = Image.open(output_path)\n",
    "        # Clean up the temporary file\n",
    "\n",
    "        return transformed_image\n",
    "    else:\n",
    "        raise ValueError(\"Failed to generate transformed image\")\n",
    "    \n",
    "#transform_hair(image, 'blue')\n",
    "    return transformed_image\n"
   ]
  },
  {
   "cell_type": "code",
   "execution_count": null,
   "metadata": {},
   "outputs": [
    {
     "name": "stdout",
     "output_type": "stream",
     "text": [
      "* Running on local URL:  http://127.0.0.1:7860\n",
      "* Running on public URL: https://e2e9a767ed0211b9e1.gradio.live\n",
      "\n",
      "This share link expires in 72 hours. For free permanent hosting and GPU upgrades, run `gradio deploy` from the terminal in the working directory to deploy to Hugging Face Spaces (https://huggingface.co/spaces)\n"
     ]
    },
    {
     "data": {
      "text/html": [
       "<div><iframe src=\"https://e2e9a767ed0211b9e1.gradio.live\" width=\"100%\" height=\"500\" allow=\"autoplay; camera; microphone; clipboard-read; clipboard-write;\" frameborder=\"0\" allowfullscreen></iframe></div>"
      ],
      "text/plain": [
       "<IPython.core.display.HTML object>"
      ]
     },
     "metadata": {},
     "output_type": "display_data"
    },
    {
     "data": {
      "text/plain": []
     },
     "execution_count": 4,
     "metadata": {},
     "output_type": "execute_result"
    },
    {
     "name": "stdout",
     "output_type": "stream",
     "text": [
      "Image saved to: uploaded_images/uploaded_image.jpg\n"
     ]
    },
    {
     "name": "stderr",
     "output_type": "stream",
     "text": [
      "Traceback (most recent call last):\n",
      "  File \"/opt/anaconda3/envs/py310/lib/python3.10/site-packages/gradio/queueing.py\", line 624, in process_events\n",
      "    response = await route_utils.call_process_api(\n",
      "  File \"/opt/anaconda3/envs/py310/lib/python3.10/site-packages/gradio/route_utils.py\", line 323, in call_process_api\n",
      "    output = await app.get_blocks().process_api(\n",
      "  File \"/opt/anaconda3/envs/py310/lib/python3.10/site-packages/gradio/blocks.py\", line 2015, in process_api\n",
      "    result = await self.call_function(\n",
      "  File \"/opt/anaconda3/envs/py310/lib/python3.10/site-packages/gradio/blocks.py\", line 1562, in call_function\n",
      "    prediction = await anyio.to_thread.run_sync(  # type: ignore\n",
      "  File \"/opt/anaconda3/envs/py310/lib/python3.10/site-packages/anyio/to_thread.py\", line 56, in run_sync\n",
      "    return await get_async_backend().run_sync_in_worker_thread(\n",
      "  File \"/opt/anaconda3/envs/py310/lib/python3.10/site-packages/anyio/_backends/_asyncio.py\", line 2134, in run_sync_in_worker_thread\n",
      "    return await future\n",
      "  File \"/opt/anaconda3/envs/py310/lib/python3.10/site-packages/anyio/_backends/_asyncio.py\", line 851, in run\n",
      "    result = context.run(func, *args)\n",
      "  File \"/opt/anaconda3/envs/py310/lib/python3.10/site-packages/gradio/utils.py\", line 865, in wrapper\n",
      "    response = f(*args, **kwargs)\n",
      "  File \"/var/folders/v4/v1wh2j7n7_v1r1l0xj84m9xw0000gp/T/ipykernel_54068/1505559848.py\", line 16, in transform_hair\n",
      "    output_path = look_maker.hair_transform(color, image_path)\n",
      "TypeError: look_maker.hair_transform() missing 1 required positional argument: 'image_path'\n"
     ]
    }
   ],
   "source": [
    "\n",
    "# Create a Gradio interface\n",
    "iface = gr.Interface(\n",
    "    fn=transform_hair,\n",
    "    inputs=[\n",
    "        #gr.Image(\"source_data/Roberta.jpg\"),\n",
    "        gr.Image(type=\"pil\", label=\"Input Image\"),\n",
    "        gr.Dropdown(choices=['blue', 'red', 'green', 'yellow', 'purple', 'pink', 'orange', 'brown', 'black', 'white','gray', 'cyan', 'magenta'], label=\"Hair Color\")\n",
    "    ],\n",
    "    outputs=gr.Image(type=\"pil\", label=\"Transformed Image\"),\n",
    "    title=\"Beyond Salon\",\n",
    "    description=\"Upload an image and select a hair color to see how the color suits.\",\n",
    "    article=\"<p style='text-align: center;'>bring life to your hair!!</p>\"\n",
    ")\n",
    "\n",
    "\n",
    "# Launch the interface\n",
    "iface.launch(share=True)"
   ]
  }
 ],
 "metadata": {
  "kernelspec": {
   "display_name": "py310",
   "language": "python",
   "name": "python3"
  },
  "language_info": {
   "codemirror_mode": {
    "name": "ipython",
    "version": 3
   },
   "file_extension": ".py",
   "mimetype": "text/x-python",
   "name": "python",
   "nbconvert_exporter": "python",
   "pygments_lexer": "ipython3",
   "version": "3.10.14"
  }
 },
 "nbformat": 4,
 "nbformat_minor": 2
}
