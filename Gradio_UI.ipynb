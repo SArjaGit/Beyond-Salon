{
 "cells": [
  {
   "cell_type": "code",
   "execution_count": null,
   "metadata": {},
   "outputs": [],
   "source": []
  },
  {
   "cell_type": "code",
   "execution_count": 30,
   "metadata": {},
   "outputs": [],
   "source": [
    "\n",
    "import look_maker\n",
    "import gradio as gr\n",
    "from PIL import Image\n",
    "import os\n"
   ]
  },
  {
   "cell_type": "code",
   "execution_count": 31,
   "metadata": {},
   "outputs": [],
   "source": [
    "UPLOAD_DIR = \"uploaded_images\"\n",
    "os.makedirs(UPLOAD_DIR, exist_ok=True)\n",
    "#image = \"source_data/Roberta.jpg\"\n",
    "# Define the function to transform hair color\n",
    "def transform_hair(image, color):\n",
    "    \n",
    "    #transformed_image = look_maker.hair_transform(color, image)\n",
    "    \n",
    "    # Define the directory for uploaded images\n",
    "    image_path = os.path.join(UPLOAD_DIR, \"uploaded_image.jpg\")\n",
    "\n",
    "    # Save the uploaded image to a temporary file\n",
    "    image.save(image_path)\n",
    "\n",
    "    print(f\"Image saved to: {image_path}\")\n",
    "    \n",
    "    # Call the set_hair_color method with the image path and color\n",
    "    output_path = look_maker.hair_transform(color, image_path)\n",
    "    \n",
    "    print(f\"Output path: {output_path}\")\n",
    "\n",
    "    if output_path and os.path.exists(output_path):\n",
    "        # Load the transformed image to return it\n",
    "        transformed_image = Image.open(output_path)\n",
    "        # Clean up the temporary file\n",
    "\n",
    "        return transformed_image\n",
    "    else:\n",
    "        raise ValueError(\"Failed to generate transformed image\")\n",
    "    \n",
    "#transform_hair(image, 'blue')\n",
    "    return transformed_image\n"
   ]
  },
  {
   "cell_type": "code",
   "execution_count": 32,
   "metadata": {},
   "outputs": [
    {
     "name": "stdout",
     "output_type": "stream",
     "text": [
      "* Running on local URL:  http://127.0.0.1:7869\n",
      "* Running on public URL: https://dd4df872458776fdb4.gradio.live\n",
      "\n",
      "This share link expires in 72 hours. For free permanent hosting and GPU upgrades, run `gradio deploy` from the terminal in the working directory to deploy to Hugging Face Spaces (https://huggingface.co/spaces)\n"
     ]
    },
    {
     "data": {
      "text/html": [
       "<div><iframe src=\"https://dd4df872458776fdb4.gradio.live\" width=\"100%\" height=\"500\" allow=\"autoplay; camera; microphone; clipboard-read; clipboard-write;\" frameborder=\"0\" allowfullscreen></iframe></div>"
      ],
      "text/plain": [
       "<IPython.core.display.HTML object>"
      ]
     },
     "metadata": {},
     "output_type": "display_data"
    },
    {
     "data": {
      "text/plain": []
     },
     "execution_count": 32,
     "metadata": {},
     "output_type": "execute_result"
    },
    {
     "name": "stdout",
     "output_type": "stream",
     "text": [
      "Image saved to: uploaded_images\\uploaded_image.jpg\n"
     ]
    },
    {
     "data": {
      "application/vnd.jupyter.widget-view+json": {
       "model_id": "4ff47dd97c944a6b83a4496df6b9edbf",
       "version_major": 2,
       "version_minor": 0
      },
      "text/plain": [
       "Loading pipeline components...:   0%|          | 0/7 [00:00<?, ?it/s]"
      ]
     },
     "metadata": {},
     "output_type": "display_data"
    },
    {
     "name": "stderr",
     "output_type": "stream",
     "text": [
      "c:\\Users\\Sarja\\AppData\\Local\\anaconda3\\envs\\py310\\lib\\site-packages\\segment_anything\\build_sam.py:105: FutureWarning: You are using `torch.load` with `weights_only=False` (the current default value), which uses the default pickle module implicitly. It is possible to construct malicious pickle data which will execute arbitrary code during unpickling (See https://github.com/pytorch/pytorch/blob/main/SECURITY.md#untrusted-models for more details). In a future release, the default value for `weights_only` will be flipped to `True`. This limits the functions that could be executed during unpickling. Arbitrary objects will no longer be allowed to be loaded via this mode unless they are explicitly allowlisted by the user via `torch.serialization.add_safe_globals`. We recommend you start setting `weights_only=True` for any use case where you don't have full control of the loaded file. Please open an issue on GitHub for any issues related to this experimental feature.\n",
      "  state_dict = torch.load(f)\n"
     ]
    },
    {
     "name": "stdout",
     "output_type": "stream",
     "text": [
      "Hair mask saved to: output/masks/hair_mask.png\n",
      "Hair mask generated at output/masks/hair_mask.png\n",
      "RGB value for orange is IntegerRGB(red=255, green=165, blue=0)\n",
      "RGB value for orange is 255 165 0\n",
      "Output path: None\n"
     ]
    },
    {
     "name": "stderr",
     "output_type": "stream",
     "text": [
      "Traceback (most recent call last):\n",
      "  File \"c:\\Users\\Sarja\\AppData\\Local\\anaconda3\\envs\\py310\\lib\\site-packages\\gradio\\queueing.py\", line 625, in process_events\n",
      "    response = await route_utils.call_process_api(\n",
      "  File \"c:\\Users\\Sarja\\AppData\\Local\\anaconda3\\envs\\py310\\lib\\site-packages\\gradio\\route_utils.py\", line 322, in call_process_api\n",
      "    output = await app.get_blocks().process_api(\n",
      "  File \"c:\\Users\\Sarja\\AppData\\Local\\anaconda3\\envs\\py310\\lib\\site-packages\\gradio\\blocks.py\", line 2047, in process_api\n",
      "    result = await self.call_function(\n",
      "  File \"c:\\Users\\Sarja\\AppData\\Local\\anaconda3\\envs\\py310\\lib\\site-packages\\gradio\\blocks.py\", line 1594, in call_function\n",
      "    prediction = await anyio.to_thread.run_sync(  # type: ignore\n",
      "  File \"c:\\Users\\Sarja\\AppData\\Local\\anaconda3\\envs\\py310\\lib\\site-packages\\anyio\\to_thread.py\", line 56, in run_sync\n",
      "    return await get_async_backend().run_sync_in_worker_thread(\n",
      "  File \"c:\\Users\\Sarja\\AppData\\Local\\anaconda3\\envs\\py310\\lib\\site-packages\\anyio\\_backends\\_asyncio.py\", line 2134, in run_sync_in_worker_thread\n",
      "    return await future\n",
      "  File \"c:\\Users\\Sarja\\AppData\\Local\\anaconda3\\envs\\py310\\lib\\site-packages\\anyio\\_backends\\_asyncio.py\", line 851, in run\n",
      "    result = context.run(func, *args)\n",
      "  File \"c:\\Users\\Sarja\\AppData\\Local\\anaconda3\\envs\\py310\\lib\\site-packages\\gradio\\utils.py\", line 869, in wrapper\n",
      "    response = f(*args, **kwargs)\n",
      "  File \"C:\\Users\\Sarja\\AppData\\Local\\Temp\\ipykernel_42448\\3522487333.py\", line 29, in transform_hair\n",
      "    raise ValueError(\"Failed to generate transformed image\")\n",
      "ValueError: Failed to generate transformed image\n"
     ]
    },
    {
     "name": "stdout",
     "output_type": "stream",
     "text": [
      "Image saved to: uploaded_images\\uploaded_image.jpg\n"
     ]
    },
    {
     "data": {
      "application/vnd.jupyter.widget-view+json": {
       "model_id": "8df03aa05d9243f780c2309f15fc2ca0",
       "version_major": 2,
       "version_minor": 0
      },
      "text/plain": [
       "Loading pipeline components...:   0%|          | 0/7 [00:00<?, ?it/s]"
      ]
     },
     "metadata": {},
     "output_type": "display_data"
    },
    {
     "name": "stderr",
     "output_type": "stream",
     "text": [
      "c:\\Users\\Sarja\\AppData\\Local\\anaconda3\\envs\\py310\\lib\\site-packages\\segment_anything\\build_sam.py:105: FutureWarning: You are using `torch.load` with `weights_only=False` (the current default value), which uses the default pickle module implicitly. It is possible to construct malicious pickle data which will execute arbitrary code during unpickling (See https://github.com/pytorch/pytorch/blob/main/SECURITY.md#untrusted-models for more details). In a future release, the default value for `weights_only` will be flipped to `True`. This limits the functions that could be executed during unpickling. Arbitrary objects will no longer be allowed to be loaded via this mode unless they are explicitly allowlisted by the user via `torch.serialization.add_safe_globals`. We recommend you start setting `weights_only=True` for any use case where you don't have full control of the loaded file. Please open an issue on GitHub for any issues related to this experimental feature.\n",
      "  state_dict = torch.load(f)\n"
     ]
    },
    {
     "name": "stdout",
     "output_type": "stream",
     "text": [
      "Hair mask saved to: output/masks/hair_mask.png\n",
      "Hair mask generated at output/masks/hair_mask.png\n",
      "RGB value for orange is IntegerRGB(red=255, green=165, blue=0)\n",
      "RGB value for orange is 255 165 0\n",
      "Output path: None\n"
     ]
    },
    {
     "name": "stderr",
     "output_type": "stream",
     "text": [
      "Traceback (most recent call last):\n",
      "  File \"c:\\Users\\Sarja\\AppData\\Local\\anaconda3\\envs\\py310\\lib\\site-packages\\gradio\\queueing.py\", line 625, in process_events\n",
      "    response = await route_utils.call_process_api(\n",
      "  File \"c:\\Users\\Sarja\\AppData\\Local\\anaconda3\\envs\\py310\\lib\\site-packages\\gradio\\route_utils.py\", line 322, in call_process_api\n",
      "    output = await app.get_blocks().process_api(\n",
      "  File \"c:\\Users\\Sarja\\AppData\\Local\\anaconda3\\envs\\py310\\lib\\site-packages\\gradio\\blocks.py\", line 2047, in process_api\n",
      "    result = await self.call_function(\n",
      "  File \"c:\\Users\\Sarja\\AppData\\Local\\anaconda3\\envs\\py310\\lib\\site-packages\\gradio\\blocks.py\", line 1594, in call_function\n",
      "    prediction = await anyio.to_thread.run_sync(  # type: ignore\n",
      "  File \"c:\\Users\\Sarja\\AppData\\Local\\anaconda3\\envs\\py310\\lib\\site-packages\\anyio\\to_thread.py\", line 56, in run_sync\n",
      "    return await get_async_backend().run_sync_in_worker_thread(\n",
      "  File \"c:\\Users\\Sarja\\AppData\\Local\\anaconda3\\envs\\py310\\lib\\site-packages\\anyio\\_backends\\_asyncio.py\", line 2134, in run_sync_in_worker_thread\n",
      "    return await future\n",
      "  File \"c:\\Users\\Sarja\\AppData\\Local\\anaconda3\\envs\\py310\\lib\\site-packages\\anyio\\_backends\\_asyncio.py\", line 851, in run\n",
      "    result = context.run(func, *args)\n",
      "  File \"c:\\Users\\Sarja\\AppData\\Local\\anaconda3\\envs\\py310\\lib\\site-packages\\gradio\\utils.py\", line 869, in wrapper\n",
      "    response = f(*args, **kwargs)\n",
      "  File \"C:\\Users\\Sarja\\AppData\\Local\\Temp\\ipykernel_42448\\3522487333.py\", line 29, in transform_hair\n",
      "    raise ValueError(\"Failed to generate transformed image\")\n",
      "ValueError: Failed to generate transformed image\n"
     ]
    },
    {
     "name": "stdout",
     "output_type": "stream",
     "text": [
      "Image saved to: uploaded_images\\uploaded_image.jpg\n"
     ]
    },
    {
     "data": {
      "application/vnd.jupyter.widget-view+json": {
       "model_id": "2b533b7cfa1549eaba016df9b30f4451",
       "version_major": 2,
       "version_minor": 0
      },
      "text/plain": [
       "Loading pipeline components...:   0%|          | 0/7 [00:00<?, ?it/s]"
      ]
     },
     "metadata": {},
     "output_type": "display_data"
    },
    {
     "name": "stderr",
     "output_type": "stream",
     "text": [
      "c:\\Users\\Sarja\\AppData\\Local\\anaconda3\\envs\\py310\\lib\\site-packages\\segment_anything\\build_sam.py:105: FutureWarning: You are using `torch.load` with `weights_only=False` (the current default value), which uses the default pickle module implicitly. It is possible to construct malicious pickle data which will execute arbitrary code during unpickling (See https://github.com/pytorch/pytorch/blob/main/SECURITY.md#untrusted-models for more details). In a future release, the default value for `weights_only` will be flipped to `True`. This limits the functions that could be executed during unpickling. Arbitrary objects will no longer be allowed to be loaded via this mode unless they are explicitly allowlisted by the user via `torch.serialization.add_safe_globals`. We recommend you start setting `weights_only=True` for any use case where you don't have full control of the loaded file. Please open an issue on GitHub for any issues related to this experimental feature.\n",
      "  state_dict = torch.load(f)\n"
     ]
    },
    {
     "name": "stdout",
     "output_type": "stream",
     "text": [
      "Hair mask saved to: output/masks/hair_mask.png\n",
      "Hair mask generated at output/masks/hair_mask.png\n",
      "RGB value for orange is IntegerRGB(red=255, green=165, blue=0)\n",
      "RGB value for orange is 255 165 0\n",
      "Output path: None\n"
     ]
    },
    {
     "name": "stderr",
     "output_type": "stream",
     "text": [
      "Traceback (most recent call last):\n",
      "  File \"c:\\Users\\Sarja\\AppData\\Local\\anaconda3\\envs\\py310\\lib\\site-packages\\gradio\\queueing.py\", line 625, in process_events\n",
      "    response = await route_utils.call_process_api(\n",
      "  File \"c:\\Users\\Sarja\\AppData\\Local\\anaconda3\\envs\\py310\\lib\\site-packages\\gradio\\route_utils.py\", line 322, in call_process_api\n",
      "    output = await app.get_blocks().process_api(\n",
      "  File \"c:\\Users\\Sarja\\AppData\\Local\\anaconda3\\envs\\py310\\lib\\site-packages\\gradio\\blocks.py\", line 2047, in process_api\n",
      "    result = await self.call_function(\n",
      "  File \"c:\\Users\\Sarja\\AppData\\Local\\anaconda3\\envs\\py310\\lib\\site-packages\\gradio\\blocks.py\", line 1594, in call_function\n",
      "    prediction = await anyio.to_thread.run_sync(  # type: ignore\n",
      "  File \"c:\\Users\\Sarja\\AppData\\Local\\anaconda3\\envs\\py310\\lib\\site-packages\\anyio\\to_thread.py\", line 56, in run_sync\n",
      "    return await get_async_backend().run_sync_in_worker_thread(\n",
      "  File \"c:\\Users\\Sarja\\AppData\\Local\\anaconda3\\envs\\py310\\lib\\site-packages\\anyio\\_backends\\_asyncio.py\", line 2134, in run_sync_in_worker_thread\n",
      "    return await future\n",
      "  File \"c:\\Users\\Sarja\\AppData\\Local\\anaconda3\\envs\\py310\\lib\\site-packages\\anyio\\_backends\\_asyncio.py\", line 851, in run\n",
      "    result = context.run(func, *args)\n",
      "  File \"c:\\Users\\Sarja\\AppData\\Local\\anaconda3\\envs\\py310\\lib\\site-packages\\gradio\\utils.py\", line 869, in wrapper\n",
      "    response = f(*args, **kwargs)\n",
      "  File \"C:\\Users\\Sarja\\AppData\\Local\\Temp\\ipykernel_42448\\3522487333.py\", line 29, in transform_hair\n",
      "    raise ValueError(\"Failed to generate transformed image\")\n",
      "ValueError: Failed to generate transformed image\n"
     ]
    }
   ],
   "source": [
    "\n",
    "# Create a Gradio interface\n",
    "iface = gr.Interface(\n",
    "    fn=transform_hair,\n",
    "    inputs=[\n",
    "        #gr.Image(\"source_data/Roberta.jpg\"),\n",
    "        gr.Image(type=\"pil\", label=\"Input Image\"),\n",
    "        gr.Dropdown(choices=['blue', 'red', 'green', 'yellow', 'purple', 'pink', 'orange', 'brown', 'black', 'white','gray', 'cyan', 'magenta'], label=\"Hair Color\")\n",
    "    ],\n",
    "    outputs=gr.Image(type=\"pil\", label=\"Transformed Image\"),\n",
    "    title=\"Hair Color Transformer\",\n",
    "    \n",
    "    description=\"Upload an image and select a hair color to transform the hair color in the image.\"\n",
    ")\n",
    "\n",
    "# Launch the interface\n",
    "iface.launch(share=True)"
   ]
  }
 ],
 "metadata": {
  "kernelspec": {
   "display_name": "py310",
   "language": "python",
   "name": "python3"
  },
  "language_info": {
   "codemirror_mode": {
    "name": "ipython",
    "version": 3
   },
   "file_extension": ".py",
   "mimetype": "text/x-python",
   "name": "python",
   "nbconvert_exporter": "python",
   "pygments_lexer": "ipython3",
   "version": "3.10.14"
  }
 },
 "nbformat": 4,
 "nbformat_minor": 2
}
