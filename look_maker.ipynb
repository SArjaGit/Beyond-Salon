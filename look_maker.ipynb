{
 "cells": [
  {
   "cell_type": "code",
   "execution_count": null,
   "metadata": {},
   "outputs": [],
   "source": [
    "\n",
    "from lib.hair import HairMaskPipeline\n",
    "import cv2\n",
    "import numpy as np\n",
    "import webcolors\n"
   ]
  },
  {
   "cell_type": "code",
   "execution_count": null,
   "metadata": {},
   "outputs": [],
   "source": [
    "def store_image_and_generate_mask(input_image_path):\n",
    "    \n",
    "    hair_mask_pipeline = HairMaskPipeline()\n",
    "\n",
    "    hair_mask_path = hair_mask_pipeline.generate_hair_mask(image_path=input_image_path, output_mask_path='output/masks/hair_mask.png')\n",
    "\n",
    "    print('Hair mask generated at', hair_mask_path)\n",
    "\n",
    "    return hair_mask_path"
   ]
  },
  {
   "cell_type": "code",
   "execution_count": 3,
   "metadata": {},
   "outputs": [],
   "source": [
    "def set_hair_color(color_name, input_image_path, hair_mask_path):\n",
    "\n",
    "  input_image_cv = cv2.imread(input_image_path, cv2.IMREAD_UNCHANGED)\n",
    "  hair_mask_cv = cv2.imread(hair_mask_path, cv2.IMREAD_GRAYSCALE)\n",
    "\n",
    "  # Add an alpha channel to the input image if it doesn't have one\n",
    "  if input_image_cv.shape[2] == 3:\n",
    "    input_image_cv = cv2.cvtColor(input_image_cv, cv2.COLOR_BGR2BGRA)\n",
    "\n",
    "  rgb_value = webcolors.name_to_rgb(color_name)\n",
    "\n",
    "  print('RGB value for', color_name, 'is', rgb_value)\n",
    "  print('RGB value for', color_name, 'is', rgb_value.red, rgb_value.green, rgb_value.blue)\n",
    "\n",
    "  # Create a red layer with the same size as the input image\n",
    "  color_layer_cv = np.zeros_like(input_image_cv)\n",
    "  color_layer_cv[:, :, 0] = rgb_value.blue  # Set the blue channel\n",
    "  color_layer_cv[:, :, 1] = rgb_value.green  # Set the green channel\n",
    "  color_layer_cv[:, :, 2] = rgb_value.red  # Set the red channel\n",
    "\n",
    "  # Apply the red color only to the mask area\n",
    "  color_layer_cv[:, :, 3] = hair_mask_cv\n",
    "\n",
    "  # Composite the red layer onto the input image using the mask with 10% alpha\n",
    "  colored_image_cv = input_image_cv.copy()\n",
    "  alpha = 0.15\n",
    "  colored_image_cv[hair_mask_cv > 0] = cv2.addWeighted(input_image_cv[hair_mask_cv > 0], 1 - alpha, color_layer_cv[hair_mask_cv > 0], alpha, 0)\n",
    "\n",
    "  # Save the result\n",
    "  cv2.imwrite('output/colored_hair.png', colored_image_cv)"
   ]
  },
  {
   "cell_type": "code",
   "execution_count": null,
   "metadata": {},
   "outputs": [],
   "source": [
    "#set_hair_color('blue', 'source_data/stefan_original_photo.jpg')\n",
    "\n",
    "# def hair_transform(selected_color, image_path):\n",
    "#     set_hair_color(selected_color, image_path)"
   ]
  },
  {
   "cell_type": "code",
   "execution_count": null,
   "metadata": {},
   "outputs": [
    {
     "name": "stdout",
     "output_type": "stream",
     "text": [
      "* Running on local URL:  http://127.0.0.1:7860\n",
      "\n",
      "To create a public link, set `share=True` in `launch()`.\n"
     ]
    },
    {
     "data": {
      "text/html": [
       "<div><iframe src=\"http://127.0.0.1:7860/\" width=\"100%\" height=\"500\" allow=\"autoplay; camera; microphone; clipboard-read; clipboard-write;\" frameborder=\"0\" allowfullscreen></iframe></div>"
      ],
      "text/plain": [
       "<IPython.core.display.HTML object>"
      ]
     },
     "metadata": {},
     "output_type": "display_data"
    },
    {
     "data": {
      "text/plain": []
     },
     "execution_count": 6,
     "metadata": {},
     "output_type": "execute_result"
    }
   ],
   "source": [
    "color_dropdown = widgets.Dropdown(\n",
    "  options=['blue', 'red', 'green', 'yellow', 'purple', 'pink'],\n",
    "  value='blue',\n",
    "  description='Color:',\n",
    ")\n",
    "\n",
    "# Create a text input for image path\n",
    "image_path_text = widgets.Text(\n",
    "  value='source_data/stefan_original_photo.jpg',\n",
    "  description='Image Path:',\n",
    ")\n",
    "\n",
    "# Create a button to apply the hair color\n",
    "apply_button = widgets.Button(\n",
    "    description='Apply Hair Color',\n",
    ")\n",
    "\n",
    "# Define the function to be called when the button is clicked\n",
    "def on_apply_button_clicked(b):\n",
    "    hair_transform(color_dropdown.value, image_path_text.value)\n",
    "\n",
    "apply_button.on_click(on_apply_button_clicked)\n",
    "\n",
    "# Display the widgets\n",
    "display(color_dropdown, image_path_text, apply_button)"
   ]
  },
  {
   "cell_type": "code",
   "execution_count": null,
   "metadata": {},
   "outputs": [],
   "source": []
  }
 ],
 "metadata": {
  "kernelspec": {
   "display_name": "py310",
   "language": "python",
   "name": "python3"
  },
  "language_info": {
   "codemirror_mode": {
    "name": "ipython",
    "version": 3
   },
   "file_extension": ".py",
   "mimetype": "text/x-python",
   "name": "python",
   "nbconvert_exporter": "python",
   "pygments_lexer": "ipython3",
   "version": "3.10.13"
  }
 },
 "nbformat": 4,
 "nbformat_minor": 2
}
