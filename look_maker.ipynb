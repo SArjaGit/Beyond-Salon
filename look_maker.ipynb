{
 "cells": [
  {
   "cell_type": "code",
   "execution_count": 1,
   "metadata": {},
   "outputs": [],
   "source": [
    "from lib.diffusion import StableDiffusionModel\n",
    "from PIL import Image"
   ]
  },
  {
   "cell_type": "code",
   "execution_count": null,
   "metadata": {},
   "outputs": [],
   "source": [
    "try:\n",
    "    photo_to_manipulate = Image.open('source_data/stefan_photo.jpg').convert(\"RGB\")\n",
    "except FileNotFoundError:\n",
    "    print(\"Error: Image file not found. Check the file path.\")\n",
    "    exit(1)\n",
    "except Exception as e:\n",
    "    print(f\"Error loading image: {e}\")\n",
    "    exit(1)\n",
    "\n",
    "# diff_model = StableDiffusionModel()\n",
    "\n",
    "# modified_image = diff_model.image_to_image(init_image=photo_to_manipulate, prompt=\"change the hair color to light blue\")\n",
    "\n",
    "# if modified_image:\n",
    "#     modified_image.save('output/stefan_diffusion.jpg')"
   ]
  },
  {
   "cell_type": "code",
   "execution_count": null,
   "metadata": {},
   "outputs": [],
   "source": []
  }
 ],
 "metadata": {
  "kernelspec": {
   "display_name": "py310",
   "language": "python",
   "name": "python3"
  },
  "language_info": {
   "codemirror_mode": {
    "name": "ipython",
    "version": 3
   },
   "file_extension": ".py",
   "mimetype": "text/x-python",
   "name": "python",
   "nbconvert_exporter": "python",
   "pygments_lexer": "ipython3",
   "version": "3.10.13"
  }
 },
 "nbformat": 4,
 "nbformat_minor": 2
}
