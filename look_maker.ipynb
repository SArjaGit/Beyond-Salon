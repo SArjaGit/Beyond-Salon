{
 "cells": [
  {
   "cell_type": "code",
   "execution_count": 5,
   "metadata": {},
   "outputs": [],
   "source": [
    "from lib.hair import HairMaskPipeline\n",
    "import cv2\n",
    "import numpy as np\n",
    "import webcolors\n"
   ]
  },
  {
   "cell_type": "code",
   "execution_count": 7,
   "metadata": {},
   "outputs": [
    {
     "data": {
      "application/vnd.jupyter.widget-view+json": {
       "model_id": "ce43fd60c1b0423aac71867040b0de96",
       "version_major": 2,
       "version_minor": 0
      },
      "text/plain": [
       "Loading pipeline components...:   0%|          | 0/7 [00:00<?, ?it/s]"
      ]
     },
     "metadata": {},
     "output_type": "display_data"
    },
    {
     "name": "stdout",
     "output_type": "stream",
     "text": [
      "Hair mask saved to: output/masks/hair_mask.png\n",
      "Hair mask generated at output/masks/hair_mask.png\n",
      "RGB value for green is IntegerRGB(red=0, green=128, blue=0)\n",
      "RGB value for green is 0 128 0\n"
     ]
    },
    {
     "data": {
      "text/plain": [
       "True"
      ]
     },
     "execution_count": 7,
     "metadata": {},
     "output_type": "execute_result"
    }
   ],
   "source": [
    "\n",
    "hair_mask_pipeline = HairMaskPipeline()\n",
    "\n",
    "input_image_path ='source_data/stefan_original_photo.jpg'\n",
    "\n",
    "hair_mask_path = hair_mask_pipeline.generate_hair_mask(image_path=input_image_path, output_mask_path='output/masks/hair_mask.png')\n",
    "\n",
    "print('Hair mask generated at', hair_mask_path)\n",
    "# Read the input image and hair mask using cv2\n",
    "input_image_cv = cv2.imread(input_image_path, cv2.IMREAD_UNCHANGED)\n",
    "hair_mask_cv = cv2.imread(hair_mask_path, cv2.IMREAD_GRAYSCALE)\n",
    "\n",
    "# Add an alpha channel to the input image if it doesn't have one\n",
    "if input_image_cv.shape[2] == 3:\n",
    "  input_image_cv = cv2.cvtColor(input_image_cv, cv2.COLOR_BGR2BGRA)\n",
    "\n",
    "color_name = 'green'\n",
    "rgb_value = webcolors.name_to_rgb(color_name)\n",
    "\n",
    "print('RGB value for', color_name, 'is', rgb_value)\n",
    "print('RGB value for', color_name, 'is', rgb_value.red, rgb_value.green, rgb_value.blue)\n",
    "\n",
    "# Create a red layer with the same size as the input image\n",
    "color_layer_cv = np.zeros_like(input_image_cv)\n",
    "color_layer_cv[:, :, 0] = rgb_value.blue  # Set the blue channel\n",
    "color_layer_cv[:, :, 1] = rgb_value.green  # Set the green channel\n",
    "color_layer_cv[:, :, 2] = rgb_value.red  # Set the red channel\n",
    "\n",
    "# Apply the red color only to the mask area\n",
    "color_layer_cv[:, :, 3] = hair_mask_cv\n",
    "\n",
    "# Composite the red layer onto the input image using the mask with 10% alpha\n",
    "colored_image_cv = input_image_cv.copy()\n",
    "alpha = 0.15\n",
    "colored_image_cv[hair_mask_cv > 0] = cv2.addWeighted(input_image_cv[hair_mask_cv > 0], 1 - alpha, color_layer_cv[hair_mask_cv > 0], alpha, 0)\n",
    "\n",
    "# Save the result\n",
    "cv2.imwrite('output/colored_hair.png', colored_image_cv)"
   ]
  },
  {
   "cell_type": "code",
   "execution_count": null,
   "metadata": {},
   "outputs": [],
   "source": []
  },
  {
   "cell_type": "code",
   "execution_count": null,
   "metadata": {},
   "outputs": [],
   "source": []
  }
 ],
 "metadata": {
  "kernelspec": {
   "display_name": "py310",
   "language": "python",
   "name": "python3"
  },
  "language_info": {
   "codemirror_mode": {
    "name": "ipython",
    "version": 3
   },
   "file_extension": ".py",
   "mimetype": "text/x-python",
   "name": "python",
   "nbconvert_exporter": "python",
   "pygments_lexer": "ipython3",
   "version": "3.10.13"
  }
 },
 "nbformat": 4,
 "nbformat_minor": 2
}
