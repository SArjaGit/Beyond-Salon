{
 "cells": [
  {
   "cell_type": "code",
   "execution_count": 5,
   "metadata": {},
   "outputs": [],
   "source": [
    "\n",
    "from lib.hair import HairMaskPipeline\n",
    "import cv2\n",
    "import numpy as np\n",
    "import webcolors\n",
    "import ipywidgets as widgets\n",
    "from IPython.display import display\n"
   ]
  },
  {
   "cell_type": "code",
   "execution_count": 6,
   "metadata": {},
   "outputs": [],
   "source": [
    "def set_hair_color(color_name, input_image_path):\n",
    "  hair_mask_pipeline = HairMaskPipeline()\n",
    "\n",
    "  hair_mask_path = hair_mask_pipeline.generate_hair_mask(image_path=input_image_path, output_mask_path='output/masks/hair_mask.png')\n",
    "\n",
    "  print('Hair mask generated at', hair_mask_path)\n",
    "  # Read the input image and hair mask using cv2\n",
    "  input_image_cv = cv2.imread(input_image_path, cv2.IMREAD_UNCHANGED)\n",
    "  hair_mask_cv = cv2.imread(hair_mask_path, cv2.IMREAD_GRAYSCALE)\n",
    "\n",
    "  # Add an alpha channel to the input image if it doesn't have one\n",
    "  if input_image_cv.shape[2] == 3:\n",
    "    input_image_cv = cv2.cvtColor(input_image_cv, cv2.COLOR_BGR2BGRA)\n",
    "\n",
    "  rgb_value = webcolors.name_to_rgb(color_name)\n",
    "\n",
    "  print('RGB value for', color_name, 'is', rgb_value)\n",
    "  print('RGB value for', color_name, 'is', rgb_value.red, rgb_value.green, rgb_value.blue)\n",
    "\n",
    "  # Create a red layer with the same size as the input image\n",
    "  color_layer_cv = np.zeros_like(input_image_cv)\n",
    "  color_layer_cv[:, :, 0] = rgb_value.blue  # Set the blue channel\n",
    "  color_layer_cv[:, :, 1] = rgb_value.green  # Set the green channel\n",
    "  color_layer_cv[:, :, 2] = rgb_value.red  # Set the red channel\n",
    "\n",
    "  # Apply the red color only to the mask area\n",
    "  color_layer_cv[:, :, 3] = hair_mask_cv\n",
    "\n",
    "  # Composite the red layer onto the input image using the mask with 10% alpha\n",
    "  colored_image_cv = input_image_cv.copy()\n",
    "  alpha = 0.15\n",
    "  colored_image_cv[hair_mask_cv > 0] = cv2.addWeighted(input_image_cv[hair_mask_cv > 0], 1 - alpha, color_layer_cv[hair_mask_cv > 0], alpha, 0)\n",
    "\n",
    "  # Save the result\n",
    "  output_path = 'output/colored_hair.png'\n",
    "  cv2.imwrite(output_path, colored_image_cv)\n",
    "\n",
    "  print(f\"Image saved at Output path: {output_path}\")\n",
    "  return output_path\n"
   ]
  },
  {
   "cell_type": "code",
   "execution_count": 7,
   "metadata": {},
   "outputs": [],
   "source": [
    "#set_hair_color('blue', 'source_data/stefan_original_photo.jpg')\n",
    "class look_maker:\n",
    "    def __init__(self):\n",
    "        # Initialize any attributes or parameters\n",
    "        pass\n",
    "    def hair_transform(selected_color, image_path):\n",
    "        return set_hair_color(selected_color, image_path)"
   ]
  },
  {
   "cell_type": "code",
   "execution_count": 8,
   "metadata": {},
   "outputs": [
    {
     "data": {
      "application/vnd.jupyter.widget-view+json": {
       "model_id": "46231948ef98467c9d1ff5b19a424b22",
       "version_major": 2,
       "version_minor": 0
      },
      "text/plain": [
       "Dropdown(description='Color:', options=('blue', 'red', 'green', 'yellow', 'purple', 'pink', 'orange', 'brown',…"
      ]
     },
     "metadata": {},
     "output_type": "display_data"
    },
    {
     "data": {
      "application/vnd.jupyter.widget-view+json": {
       "model_id": "eac67c7292584784b5637e2d0a3e28b4",
       "version_major": 2,
       "version_minor": 0
      },
      "text/plain": [
       "Text(value='source_data/stefan_original_photo.jpg', description='Image Path:')"
      ]
     },
     "metadata": {},
     "output_type": "display_data"
    },
    {
     "data": {
      "application/vnd.jupyter.widget-view+json": {
       "model_id": "3f7f5d5909764d5c9ffef42c55e181b6",
       "version_major": 2,
       "version_minor": 0
      },
      "text/plain": [
       "Button(description='Apply Hair Color', style=ButtonStyle())"
      ]
     },
     "metadata": {},
     "output_type": "display_data"
    }
   ],
   "source": [
    "color_dropdown = widgets.Dropdown(\n",
    "  options=['blue', 'red', 'green', 'yellow', 'purple', 'pink', 'orange', 'brown', 'black', 'white','gray', 'cyan', 'magenta' ],\n",
    "  value='blue',\n",
    "  description='Color:',\n",
    ")\n",
    "\n",
    "# Create a text input for image path\n",
    "image_path_text = widgets.Text(\n",
    "  value='source_data/stefan_original_photo.jpg',\n",
    "  description='Image Path:',\n",
    ")\n",
    "\n",
    "# Create a button to apply the hair color\n",
    "apply_button = widgets.Button(\n",
    "    description='Apply Hair Color',\n",
    ")\n",
    "\n",
    "# Define the function to be called when the button is clicked\n",
    "def on_apply_button_clicked(b):\n",
    "    hair_transform(color_dropdown.value, image_path_text.value)\n",
    "\n",
    "apply_button.on_click(on_apply_button_clicked)\n",
    "\n",
    "# Display the widgets\n",
    "display(color_dropdown, image_path_text, apply_button)"
   ]
  },
  {
   "cell_type": "code",
   "execution_count": null,
   "metadata": {},
   "outputs": [],
   "source": []
  }
 ],
 "metadata": {
  "kernelspec": {
   "display_name": "py310",
   "language": "python",
   "name": "python3"
  },
  "language_info": {
   "codemirror_mode": {
    "name": "ipython",
    "version": 3
   },
   "file_extension": ".py",
   "mimetype": "text/x-python",
   "name": "python",
   "nbconvert_exporter": "python",
   "pygments_lexer": "ipython3",
   "version": "3.10.14"
  }
 },
 "nbformat": 4,
 "nbformat_minor": 2
}
