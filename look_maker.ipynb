{
 "cells": [
  {
   "cell_type": "code",
   "execution_count": null,
   "metadata": {},
   "outputs": [],
   "source": [
    "from lib.diffusion import StableDiffusionModel\n",
    "from lib.hair import HairMaskPipeline\n",
    "from PIL import Image"
   ]
  },
  {
   "cell_type": "code",
   "execution_count": null,
   "metadata": {},
   "outputs": [],
   "source": [
    "hair_mask_pipeline = HairMaskPipeline()\n",
    "\n",
    "input_image_path ='source_data/stefan_photo.jpg'\n",
    "\n",
    "hair_mask_path = hair_mask_pipeline.generate_hair_mask(image_path=input_image_path, output_mask_path='output/masks/hair_mask.png')\n",
    "\n",
    "print('Hair mask generated at', hair_mask_path)\n",
    "\n",
    "prompt = 'Change the lightness of the hair to 50% and color it red. Do not change the face or facial features.'\n",
    "\n",
    "hair_mask_pipeline.apply_hair_color(input_image_path, hair_mask_path, prompt,\n",
    "                              output_path='output/colored_hair.jpg')"
   ]
  },
  {
   "cell_type": "code",
   "execution_count": null,
   "metadata": {},
   "outputs": [],
   "source": []
  }
 ],
 "metadata": {
  "kernelspec": {
   "display_name": "py310",
   "language": "python",
   "name": "python3"
  },
  "language_info": {
   "codemirror_mode": {
    "name": "ipython",
    "version": 3
   },
   "file_extension": ".py",
   "mimetype": "text/x-python",
   "name": "python",
   "nbconvert_exporter": "python",
   "pygments_lexer": "ipython3",
   "version": "3.10.13"
  }
 },
 "nbformat": 4,
 "nbformat_minor": 2
}
